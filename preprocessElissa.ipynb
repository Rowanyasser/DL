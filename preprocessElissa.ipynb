{
 "cells": [
  {
   "cell_type": "markdown",
   "metadata": {},
   "source": [
    "Import nltk and download required packages"
   ]
  },
  {
   "cell_type": "code",
   "execution_count": null,
   "metadata": {},
   "outputs": [],
   "source": [
    "# import nltk\n",
    "# nltk.download('stopwords')\n",
    "# nltk.download('punkt')  \n",
    "# nltk.download('wordnet')\n",
    "# nltk.download('punkt_tab')"
   ]
  },
  {
   "cell_type": "code",
   "execution_count": 12,
   "metadata": {},
   "outputs": [],
   "source": [
    "# Install TensorFlow\n",
    "#%pip install --user tensorflow\n",
    "\n",
    "#import tensorflow as tf\n",
    "#from tensorflow import keras\n",
    "\n",
    "#print(\"TensorFlow Version:\", tf.__version__)\n",
    "#print(\"Keras Version:\", keras.__version__)\n"
   ]
  },
  {
   "cell_type": "markdown",
   "metadata": {},
   "source": [
    "Necessary Imports"
   ]
  },
  {
   "cell_type": "code",
   "execution_count": null,
   "metadata": {},
   "outputs": [],
   "source": [
    "import pandas as pd\n",
    "import re\n",
    "from nltk.tokenize import word_tokenize\n",
    "from nltk.stem import WordNetLemmatizer, ISRIStemmer\n",
    "import nltk\n",
    "from nltk.corpus import stopwords\n",
    "from transformers import pipeline\n",
    "from transformers import AutoModelForSequenceClassification, AutoTokenizer\n",
    "import torch\n",
    "import matplotlib.pyplot as plt\n",
    "import seaborn as sns\n",
    "from collections import Counter"
   ]
  },
  {
   "cell_type": "code",
   "execution_count": 15,
   "metadata": {},
   "outputs": [],
   "source": [
    "arabic_stopwords = set(stopwords.words('arabic'))\n",
    "arabic_stopwords\n",
    "stemmer = ISRIStemmer()"
   ]
  },
  {
   "cell_type": "markdown",
   "metadata": {},
   "source": [
    "Read the csv file"
   ]
  },
  {
   "cell_type": "code",
   "execution_count": 16,
   "metadata": {},
   "outputs": [
    {
     "name": "stdout",
     "output_type": "stream",
     "text": [
      "Original Lyrics Sample:\n",
      "0    متخفش مني\\nمتخفش مني\\nمتخفش مني\\nمتخفش مني\\nأن...\n",
      "1    أجمل إحساس\\nأجمل إحساس\\nأجمل إحساس\\nأجمل إحساس...\n",
      "2    أسعد واحدة\\nأسعد واحدة\\nأسعد واحدة\\nالفرحة الل...\n",
      "3    أغلى الحبايب\\nأغلى الحبايب\\nأغلى الحبايب\\nأغلى...\n",
      "4    أنا بستغرب عليه\\nأنا بستغرب عليه\\nأنا بستغرب ع...\n",
      "Name: Lyrics, dtype: object\n"
     ]
    }
   ],
   "source": [
    "df = pd.read_csv('C:\\\\Users\\\\Kimo Store\\\\Downloads\\\\deep\\\\output\\\\elissa_lyrics.csv', encoding='utf-8-sig')\n",
    "print(\"Original Lyrics Sample:\")\n",
    "print(df['Lyrics'].head())\n"
   ]
  },
  {
   "cell_type": "markdown",
   "metadata": {},
   "source": [
    "Functions used for preprocessing"
   ]
  },
  {
   "cell_type": "code",
   "execution_count": 17,
   "metadata": {},
   "outputs": [],
   "source": [
    "def remove_diacritics(text):\n",
    "    diacritics = r'[\\u0617-\\u061A\\u064B-\\u065F]'\n",
    "    text = re.sub(diacritics, '', text)\n",
    "    return text"
   ]
  },
  {
   "cell_type": "code",
   "execution_count": 18,
   "metadata": {},
   "outputs": [],
   "source": [
    "def remove_hamzas(text):\n",
    "    text = re.sub(r'[أإآٱ]', 'ا', text)  # أ, إ, آ, ٱ → ا\n",
    "    return text"
   ]
  },
  {
   "cell_type": "code",
   "execution_count": 19,
   "metadata": {},
   "outputs": [],
   "source": [
    "def replaced_words(text):\n",
    "    text= re.sub(r'ة', 'ه', text) #ة → ه\n",
    "    text = re.sub(r'ي\\b', 'ى', text) #ي → ى\n",
    "    return text   "
   ]
  },
  {
   "cell_type": "code",
   "execution_count": 20,
   "metadata": {},
   "outputs": [],
   "source": [
    "#remove repeated letters\n",
    "def deduplicate_letters(text):\n",
    "    return re.sub(r'(.)\\1+', r'\\1', text)"
   ]
  },
  {
   "cell_type": "code",
   "execution_count": 21,
   "metadata": {},
   "outputs": [],
   "source": [
    "def remove_punctuation(text):\n",
    "    text = re.sub(r'[^\\w\\s]', '', text)\n",
    "    text = re.sub(r'\\s+', ' ', text).strip()\n",
    "    return text"
   ]
  },
  {
   "cell_type": "code",
   "execution_count": 22,
   "metadata": {},
   "outputs": [],
   "source": [
    "def normalize_text(text):\n",
    "    text = remove_diacritics(text)\n",
    "    text = remove_hamzas(text)\n",
    "    text = replaced_words(text)\n",
    "    text = deduplicate_letters(text)\n",
    "    text = remove_punctuation(text)\n",
    "    return text"
   ]
  },
  {
   "cell_type": "code",
   "execution_count": 23,
   "metadata": {},
   "outputs": [],
   "source": [
    "def remove_stopwords(text):\n",
    "    words = text.split()\n",
    "    filtered_words = [word for word in words if word not in arabic_stopwords]\n",
    "    return ' '.join(filtered_words)\n"
   ]
  },
  {
   "cell_type": "code",
   "execution_count": 24,
   "metadata": {},
   "outputs": [],
   "source": [
    "def tokenize_text(text):\n",
    "    return [word for word in text.split() if word.strip()]"
   ]
  },
  {
   "cell_type": "code",
   "execution_count": 25,
   "metadata": {},
   "outputs": [],
   "source": [
    "arabic_stopwords_normalized = {normalize_text(word) for word in arabic_stopwords}"
   ]
  },
  {
   "cell_type": "code",
   "execution_count": 26,
   "metadata": {},
   "outputs": [],
   "source": [
    "def preprocess_text(text):\n",
    "    if pd.isna(text):\n",
    "        return \"\"\n",
    "    \n",
    "    # Remove diacritics\n",
    "    text = remove_diacritics(text)\n",
    "    \n",
    "    # Normalize Arabic letters\n",
    "    text = remove_hamzas(text)\n",
    "    text = replaced_words(text)\n",
    "    \n",
    "    # Remove repeated letters\n",
    "    text = deduplicate_letters(text)\n",
    "    \n",
    "    # Remove punctuation\n",
    "    text = remove_punctuation(text)\n",
    "    \n",
    "    # Tokenize ensuring strict separation of words\n",
    "    tokens = re.findall(r'\\b\\w+\\b', text)  # Extract words strictly\n",
    "    \n",
    "    # Remove stopwords\n",
    "    tokens = [word for word in tokens if word not in arabic_stopwords]\n",
    "    \n",
    "    # Apply stemming\n",
    "    tokens = [stemmer.stem(word) for word in tokens]\n",
    "    \n",
    "    return '\\n'.join(tokens)  # Ensure each word appears on a new line\n",
    "\n",
    "# Apply preprocessing\n",
    "df['Processed_Lyrics'] = df['Lyrics'].apply(preprocess_text)"
   ]
  },
  {
   "cell_type": "code",
   "execution_count": 27,
   "metadata": {},
   "outputs": [
    {
     "name": "stdout",
     "output_type": "stream",
     "text": [
      "105\n"
     ]
    }
   ],
   "source": [
    "#print number of rows in the dataset\n",
    "print(df.shape[0])"
   ]
  },
  {
   "cell_type": "code",
   "execution_count": 28,
   "metadata": {},
   "outputs": [
    {
     "name": "stdout",
     "output_type": "stream",
     "text": [
      "Length of Lyricist: 105\n",
      "Length of Composer: 105\n",
      "Length of Year: 105\n"
     ]
    }
   ],
   "source": [
    "Lyricist = ['نادر عبدالله', 'محمد رفاعى', 'سلامة على', 'احمد الجندى', 'محمد الرفاعى', 'امير طعيمة', 'ايمن قميحة', 'احمد ماضى', 'امير طعيمة', 'كميل خورى', 'اسماعيل الحبروك', 'نادر عبدالله', 'شادى نور', 'عمر سارى', 'عمر سارى', 'هانى عبد الكريم', 'سهام الشعشاع', 'محمد جمعه', 'سلامه على', 'ايمن بهجت قمر', 'سلامه على', 'مروان خورى', 'الياس ناصر', 'نادر عبدالله', 'فيصل همامى', 'احمد مرزوق', 'روميو لحود', 'احمد الجندى', 'سلامه على', 'نادر عبدالله', 'احمد الجندى', 'امير طعيمه', 'نادر عبدالله', 'عادل رفول', 'مروان سعادة', 'نادر عبدالله', 'سامح العجمى', 'الياس ناصر', 'محمد رحيم', 'كمال القبيسى', 'الياس ناصر', 'مروان خورى', 'ملاك عادل', 'محمد رفاعى', 'الياس ناصر', 'نبيل ابو عبدو', 'نبيل ابو عبدو', 'اسامه مصطفى', 'احمد مرزوق', 'فارس اسكندر', 'سليم عساف', 'محمد رفاعى', 'تامر حسين', 'نادر عبدالله', 'امير طعيمه', 'رامى جمال', 'مروان خورى', 'سهام الشعشاع', 'امير طعيمه', 'احمد الجندى', 'نادر عبدالله', 'احمد مرزوق', 'يوسف سليمان', 'مروان خورى', 'نادر عبدالله', 'محمد رحيم', 'نادر عبدالله', 'محمد رفاعى', 'اسامه مصطفى', 'عادل رفول', 'مروان خورى', 'على المولى', 'نزار فرنسىس', 'اكرام العاصى', 'طونى ابى كرم', 'نادر عبدالله', 'مروان خورى', 'بهاء الدىن محمد', 'هانى عبد الكرىم', 'منىر بو عساف', 'منير جورج عساف', 'اسامة مصطفى', 'نادر عبدالله', 'على المولى', 'نادر عبدالله', 'اسامة مصطفى', 'احمد الجندى', 'على المولى', 'بهاء الدىن محمد', 'نادر عبدالله', 'خالد امين', 'امير طعيمة', 'نادر عبدالله', 'اسامه مصطفى', 'امير طعيمة', 'نادر عبدالله', 'الياس ناصر', 'نادر عبدالله', 'نادر عبدالله', 'شادى نور', 'سعىد مرسى', 'الياس ناصر', 'نادر عبدالله', 'صلاح الكردي', 'أحمد ماضي']\n",
    "\n",
    "Composer = ['ياسر نور', 'محمد رحيم و محمد رفاعى', 'محمد يحيى', 'مدين', 'ايمن محسب', 'وليد سعد', 'اوسين', 'زياد برجى', 'وليد سعد', 'كميل خورى', 'منير مراد', 'تامر على', 'محمد يحيى', 'محمد بشار', 'محمد بشار', 'وليد سعد', 'محمد رحيم', 'محمد رحيم', 'شريف بدر', 'محمد يحيى', 'محمد يحيى', 'مروان شهود', 'غوليس', 'محمد يحيى', 'تامر على', 'محمد يحيى', 'روميو لحود', 'مدين', 'محمد يحيى', 'سونر جيركيكير', 'مدين', 'زياد برجى', 'تامر عاشور', 'ناصر الاسعد', 'برنار لياميس و جيف بارنيل', 'وليد سعد', 'شريف تاج', 'جورج كرم', 'محمد رحيم', 'اسامه الرحبانى', 'سردار اورتاج', 'مروان خورى', 'محمد يحيى', 'محمد رفاعى', 'الكس فوكس', 'جيرار فيرير', 'تركان', 'سامر ابو طالب', 'محمد رحيم', 'سليم سلامه', 'سليم عساف', 'حسام حبيب و جان مارى رياشى', 'عمرو مصطفى', 'محمد رحيم', 'وليد سعد', 'رامى جمال', 'مروان خورى', 'محمد رحيم', 'محمد يحيى', 'مدين', 'وليد سعد', 'محمد رحيم', 'صلاح الكردى', 'مروان خورى', 'تامر عاشور', 'محمد رحيم', 'محمد يحيى', 'حسام حبيب', 'سامر ابو طالب', 'جان صليبا', 'مروان خورى', 'فضل سليمان', 'ناصر الاسعد', 'محمد رحيم','ناصر الاسعد', 'رامى جمال', 'مروان خورى', 'مدين', 'مدين', 'نهاد نجار', 'نهاد نجار', 'محمد يحيى', 'تامر على', 'صلاح الكردى', 'تامر عاشور', 'سامر ابو طالب', 'مدين', 'رامى الشافعى', 'مدين', 'وليد سعد', 'محمد رحيم', 'رامى جمال', 'محمد يحيى', 'سامر ابو طالب', 'رامى جمال', 'جان صليبا', 'فياز كوروز', 'ابراهيم تاتليسس', 'محمد يحيى', 'محمد يحيى', 'بليغ حمدى', 'فياز كوروز', 'نزيه اسلر', 'صلاح الكردي ','زياد برجي']\n",
    "\n",
    "Year = ['2006', '2002', '2012', '2016', '2008', '2020', '2014', '2022', '2018', '2017', '2014', '2007', '2018', '2020', '2018', '2018', '2012', '2010', '2016', '2023', '2014', '2008', '1999', '2014', '2006', '2014', '2018', '2018', '2012', '2014', '2014', '2020', '2006', '1999', '2015', '2007', '2004', '2000', '2017', '2022', '2000', '2010', '2016', '2005', '2000', '2005', '2002', '2020', '2022', '2009', '2018', '2002', '2018', '2020', '2016', '2020', '2023', '2019', '2014', '2016', '2010', '2012', '2016', '2009', '2006', '2012', '2014', '2004', '2016', '2012', '2006', '2018', '2002', '2007', '2002', '2018', '2014', '2014', '2012', '2006', '2004', '2020', '2009', '2023', '2012', '2016', '2016', '2018', '2016', '2009', '2012', '2018', '2016', '2016', '2022', '2018', '2000', '2018', '2016', '2020', '2018', '2000', '2016', '2016', '2014']\n",
    "\n",
    "print(f\"Length of Lyricist: {len(Lyricist)}\")\n",
    "print(f\"Length of Composer: {len(Composer)}\")\n",
    "print(f\"Length of Year: {len(Year)}\")\n",
    "\n",
    "df['Lyricist'] = Lyricist\n",
    "df['composer'] = Composer\n",
    "df['year']= Year\n"
   ]
  },
  {
   "cell_type": "code",
   "execution_count": 29,
   "metadata": {},
   "outputs": [],
   "source": [
    "# Load model and tokenizer\n",
    "model_name = \"CAMeL-Lab/bert-base-arabic-camelbert-mix-sentiment\"\n",
    "tokenizer = AutoTokenizer.from_pretrained(model_name)\n",
    "model = AutoModelForSequenceClassification.from_pretrained(model_name)\n"
   ]
  },
  {
   "cell_type": "code",
   "execution_count": 30,
   "metadata": {},
   "outputs": [],
   "source": [
    "# Sentiment labels mapping (based on CAMeL BERT sentiment analysis)\n",
    "id2label = {0: \"negative\", 1: \"neutral\", 2: \"positive\"}"
   ]
  },
  {
   "cell_type": "code",
   "execution_count": 31,
   "metadata": {},
   "outputs": [],
   "source": [
    "def bert_sentiment_analysis(lyrics):\n",
    "    if not isinstance(lyrics, str) or lyrics.strip() == '':\n",
    "        return 'neutral'\n",
    "    \n",
    "    # Truncate to 512 tokens (BERT's max length)\n",
    "    lyrics = ' '.join(lyrics.split()[:512])\n",
    "\n",
    "    # Tokenize the input text\n",
    "    inputs = tokenizer(lyrics, return_tensors=\"pt\", truncation=True, padding=True, max_length=512)\n",
    "\n",
    "    # Perform inference\n",
    "    with torch.no_grad():\n",
    "        outputs = model(**inputs)\n",
    "\n",
    "    # Get predicted sentiment\n",
    "    predicted_class = torch.argmax(outputs.logits).item()\n",
    "    return id2label[predicted_class]"
   ]
  },
  {
   "cell_type": "code",
   "execution_count": 32,
   "metadata": {},
   "outputs": [],
   "source": [
    "# Apply to DataFrame\n",
    "df['Sentiment_BERT'] = df['Lyrics'].apply(bert_sentiment_analysis)"
   ]
  },
  {
   "cell_type": "code",
   "execution_count": 33,
   "metadata": {},
   "outputs": [
    {
     "name": "stdout",
     "output_type": "stream",
     "text": [
      "BERT-Based Sentiment Analysis Results:\n",
      "         Song Title Sentiment_BERT\n",
      "0         متخفش مني       positive\n",
      "1        أجمل إحساس       negative\n",
      "2        أسعد واحدة       negative\n",
      "3     أغلى الحبايب        negative\n",
      "4  أنا بستغرب عليه         neutral\n"
     ]
    }
   ],
   "source": [
    "print(\"BERT-Based Sentiment Analysis Results:\")\n",
    "print(df[['Song Title', 'Sentiment_BERT']].head())"
   ]
  },
  {
   "cell_type": "code",
   "execution_count": 34,
   "metadata": {},
   "outputs": [],
   "source": [
    "output_file = 'C:\\\\Users\\\\Kimo Store\\\\Downloads\\\\deep\\\\output\\\\elissa_lyrics_preprocessed.csv'"
   ]
  },
  {
   "cell_type": "markdown",
   "metadata": {},
   "source": [
    "Save the preprocessed lyrics to another csv file"
   ]
  },
  {
   "cell_type": "code",
   "execution_count": 35,
   "metadata": {},
   "outputs": [
    {
     "name": "stdout",
     "output_type": "stream",
     "text": [
      "Preprocessed lyrics saved to C:\\Users\\Kimo Store\\Downloads\\deep\\output\\elissa_lyrics_preprocessed.csv\n",
      "         Song Title                                             Lyrics  \\\n",
      "0         متخفش مني  متخفش مني\\nمتخفش مني\\nمتخفش مني\\nمتخفش مني\\nأن...   \n",
      "1        أجمل إحساس  أجمل إحساس\\nأجمل إحساس\\nأجمل إحساس\\nأجمل إحساس...   \n",
      "2        أسعد واحدة  أسعد واحدة\\nأسعد واحدة\\nأسعد واحدة\\nالفرحة الل...   \n",
      "3     أغلى الحبايب   أغلى الحبايب\\nأغلى الحبايب\\nأغلى الحبايب\\nأغلى...   \n",
      "4  أنا بستغرب عليه   أنا بستغرب عليه\\nأنا بستغرب عليه\\nأنا بستغرب ع...   \n",
      "\n",
      "                                                 URL  \\\n",
      "0  https://lyricstranslate.com/en/elissa-metkahaf...   \n",
      "1  https://lyricstranslate.com/en/elissa-agmal-eh...   \n",
      "2  https://lyricstranslate.com/en/elissa-assad-wa...   \n",
      "3  https://lyricstranslate.com/en/elissa-aghla-el...   \n",
      "4  https://lyricstranslate.com/en/elissa-ana-bast...   \n",
      "\n",
      "                                    Processed_Lyrics      Lyricist  \\\n",
      "0  تخفش\\nمنى\\nتخفش\\nمنى\\nتخفش\\nمنى\\nتخفش\\nمنى\\nان...  نادر عبدالله   \n",
      "1  جمل\\nحسس\\nجمل\\nحسس\\nجمل\\nحسس\\nجمل\\nحسس\\nفى\\nكو...    محمد رفاعى   \n",
      "2  سعد\\nوحد\\nسعد\\nوحد\\nسعد\\nوحد\\nفرح\\nالى\\nانا\\nد...     سلامة على   \n",
      "3  غلى\\nحبيب\\nغلى\\nحبيب\\nغلى\\nحبيب\\nغلى\\nحبيب\\nال...   احمد الجندى   \n",
      "4  انا\\nغرب\\nانا\\nغرب\\nانا\\nغرب\\nانا\\nغرب\\nعلی\\nا...  محمد الرفاعى   \n",
      "\n",
      "                 composer  year Sentiment_BERT  \n",
      "0                ياسر نور  2006       positive  \n",
      "1  محمد رحيم و محمد رفاعى  2002       negative  \n",
      "2               محمد يحيى  2012       negative  \n",
      "3                    مدين  2016       negative  \n",
      "4               ايمن محسب  2008        neutral  \n"
     ]
    }
   ],
   "source": [
    "df.to_csv(output_file, index=False, encoding='utf-8-sig')\n",
    "print(f\"Preprocessed lyrics saved to {output_file}\")\n",
    "print(df.head())"
   ]
  },
  {
   "cell_type": "code",
   "execution_count": 36,
   "metadata": {},
   "outputs": [],
   "source": [
    "df['Processed_Lyrics'] = df['Processed_Lyrics'].astype(str)"
   ]
  },
  {
   "cell_type": "code",
   "execution_count": 48,
   "metadata": {},
   "outputs": [
    {
     "name": "stdout",
     "output_type": "stream",
     "text": [
      "Defaulting to user installation because normal site-packages is not writeable\n",
      "Requirement already satisfied: deep-translator in c:\\users\\kimo store\\appdata\\roaming\\python\\python312\\site-packages (1.11.4)\n",
      "Requirement already satisfied: beautifulsoup4<5.0.0,>=4.9.1 in c:\\users\\kimo store\\appdata\\roaming\\python\\python312\\site-packages (from deep-translator) (4.12.3)\n",
      "Requirement already satisfied: requests<3.0.0,>=2.23.0 in c:\\users\\kimo store\\appdata\\roaming\\python\\python312\\site-packages (from deep-translator) (2.32.3)\n",
      "Requirement already satisfied: soupsieve>1.2 in c:\\users\\kimo store\\appdata\\roaming\\python\\python312\\site-packages (from beautifulsoup4<5.0.0,>=4.9.1->deep-translator) (2.5)\n",
      "Requirement already satisfied: charset-normalizer<4,>=2 in c:\\users\\kimo store\\appdata\\roaming\\python\\python312\\site-packages (from requests<3.0.0,>=2.23.0->deep-translator) (3.4.1)\n",
      "Requirement already satisfied: idna<4,>=2.5 in c:\\users\\kimo store\\appdata\\roaming\\python\\python312\\site-packages (from requests<3.0.0,>=2.23.0->deep-translator) (3.10)\n",
      "Requirement already satisfied: urllib3<3,>=1.21.1 in c:\\users\\kimo store\\appdata\\roaming\\python\\python312\\site-packages (from requests<3.0.0,>=2.23.0->deep-translator) (2.3.0)\n",
      "Requirement already satisfied: certifi>=2017.4.17 in c:\\users\\kimo store\\appdata\\roaming\\python\\python312\\site-packages (from requests<3.0.0,>=2.23.0->deep-translator) (2025.1.31)\n",
      "Note: you may need to restart the kernel to use updated packages.\n"
     ]
    },
    {
     "name": "stderr",
     "output_type": "stream",
     "text": [
      "WARNING: Ignoring invalid distribution ~ (C:\\Users\\Kimo Store\\AppData\\Roaming\\Python\\Python312\\site-packages)\n",
      "WARNING: Ignoring invalid distribution ~ (C:\\Users\\Kimo Store\\AppData\\Roaming\\Python\\Python312\\site-packages)\n",
      "WARNING: Ignoring invalid distribution ~ (C:\\Users\\Kimo Store\\AppData\\Roaming\\Python\\Python312\\site-packages)\n",
      "Token indices sequence length is longer than the specified maximum sequence length for this model (984 > 512). Running this sequence through the model will result in indexing errors\n"
     ]
    },
    {
     "name": "stdout",
     "output_type": "stream",
     "text": [
      "Translation error: The expanded size of the tensor (984) must match the existing size (514) at non-singleton dimension 1.  Target sizes: [1, 984].  Tensor sizes: [1, 514]\n"
     ]
    }
   ],
   "source": [
    "# Install deep_translator if not already installed\n",
    "%pip install deep-translator\n",
    "\n",
    "from transformers import pipeline\n",
    "from deep_translator import GoogleTranslator\n",
    "\n",
    "# Load emotion analysis pipeline (English)\n",
    "emotion_classifier = pipeline(\"text-classification\", model=\"j-hartmann/emotion-english-distilroberta-base\", top_k=None)\n",
    "\n",
    "# Initialize translator\n",
    "translator = GoogleTranslator(source='ar', target='en')\n",
    "\n",
    "def analyze_emotions_translated(lyrics):\n",
    "    if not isinstance(lyrics, str) or lyrics.strip() == '':\n",
    "        return 'neutral'\n",
    "    # Translate Arabic to English\n",
    "    try:\n",
    "        translated_lyrics = translator.translate(lyrics)\n",
    "        # Truncate to 512 tokens\n",
    "        translated_lyrics = ' '.join(translated_lyrics.split()[:512])\n",
    "        # Get emotion scores\n",
    "        emotions = emotion_classifier(translated_lyrics)[0]\n",
    "        dominant_emotion = max(emotions, key=lambda x: x['score'])['label']\n",
    "        return dominant_emotion\n",
    "    except Exception as e:\n",
    "        print(f\"Translation error: {e}\")\n",
    "        return 'neutral'\n",
    "\n",
    "# Apply emotion analysis to translated lyrics\n",
    "df['Emotion'] = df['Lyrics'].apply(analyze_emotions_translated)"
   ]
  },
  {
   "cell_type": "code",
   "execution_count": 49,
   "metadata": {},
   "outputs": [
    {
     "name": "stdout",
     "output_type": "stream",
     "text": [
      "Emotion Analysis Results:\n",
      "         Song Title   Emotion\n",
      "0         متخفش مني      fear\n",
      "1        أجمل إحساس   neutral\n",
      "2        أسعد واحدة   sadness\n",
      "3     أغلى الحبايب    sadness\n",
      "4  أنا بستغرب عليه   surprise\n"
     ]
    }
   ],
   "source": [
    "print(\"Emotion Analysis Results:\")\n",
    "print(df[['Song Title', 'Emotion']].head())"
   ]
  },
  {
   "cell_type": "code",
   "execution_count": 50,
   "metadata": {},
   "outputs": [
    {
     "name": "stderr",
     "output_type": "stream",
     "text": [
      "C:\\Users\\Kimo Store\\AppData\\Local\\Temp\\ipykernel_26924\\568316803.py:2: FutureWarning: \n",
      "\n",
      "Passing `palette` without assigning `hue` is deprecated and will be removed in v0.14.0. Assign the `x` variable to `hue` and set `legend=False` for the same effect.\n",
      "\n",
      "  sns.countplot(data=df, x='Emotion', palette='muted')\n"
     ]
    },
    {
     "data": {
      "image/png": "[encoded data removed]",
      "text/plain": [
       "<Figure size 600x400 with 1 Axes>"
      ]
     },
     "metadata": {},
     "output_type": "display_data"
    }
   ],
   "source": [
    "plt.figure(figsize=(6,4))\n",
    "sns.countplot(data=df, x='Emotion', palette='muted')\n",
    "plt.title(\"Emotion Distribution\")\n",
    "plt.xlabel(\"Emotion\")\n",
    "plt.ylabel(\"Count\")\n",
    "plt.xticks(rotation=45)\n",
    "plt.show()"
   ]
  },
  {
   "cell_type": "code",
   "execution_count": 51,
   "metadata": {},
   "outputs": [],
   "source": [
    "from sklearn.feature_extraction.text import TfidfVectorizer\n",
    "\n",
    "# Initialize TF-IDF Vectorizer\n",
    "tfidf_vectorizer = TfidfVectorizer(max_features=20)  # Limit to top 20 features for simplicity\n",
    "\n",
    "# Compute TF-IDF on processed lyrics\n",
    "tfidf_matrix = tfidf_vectorizer.fit_transform(df['Processed_Lyrics'])\n",
    "\n",
    "# Get feature names (words)\n",
    "tfidf_features = tfidf_vectorizer.get_feature_names_out()\n",
    "\n",
    "# Convert to DataFrame for easier analysis\n",
    "tfidf_df = pd.DataFrame(tfidf_matrix.toarray(), columns=tfidf_features)\n",
    "\n",
    "# Add TF-IDF results to the main DataFrame (e.g., top word per song)\n",
    "df['Top_TFIDF_Word'] = tfidf_df.idxmax(axis=1)"
   ]
  },
  {
   "cell_type": "code",
   "execution_count": 52,
   "metadata": {},
   "outputs": [
    {
     "name": "stdout",
     "output_type": "stream",
     "text": [
      "Top TF-IDF Words per Song (Sample):\n",
      "         Song Title Top_TFIDF_Word\n",
      "0         متخفش مني          حبيبى\n",
      "1        أجمل إحساس            انا\n",
      "2        أسعد واحدة            انا\n",
      "3     أغلى الحبايب              فى\n",
      "4  أنا بستغرب عليه             انا\n"
     ]
    }
   ],
   "source": [
    "print(\"Top TF-IDF Words per Song (Sample):\")\n",
    "print(df[['Song Title', 'Top_TFIDF_Word']].head())"
   ]
  },
  {
   "cell_type": "code",
   "execution_count": 53,
   "metadata": {},
   "outputs": [
    {
     "name": "stderr",
     "output_type": "stream",
     "text": [
      "C:\\Users\\Kimo Store\\AppData\\Local\\Temp\\ipykernel_26924\\2443868278.py:3: FutureWarning: \n",
      "\n",
      "Passing `palette` without assigning `hue` is deprecated and will be removed in v0.14.0. Assign the `y` variable to `hue` and set `legend=False` for the same effect.\n",
      "\n",
      "  sns.barplot(x=tfidf_sums.values, y=tfidf_sums.index, palette='coolwarm')\n"
     ]
    },
    {
     "data": {
      "image/png": "[encoded data removed]",
      "text/plain": [
       "<Figure size 1000x500 with 1 Axes>"
      ]
     },
     "metadata": {},
     "output_type": "display_data"
    }
   ],
   "source": [
    "tfidf_sums = tfidf_df.sum().sort_values(ascending=False)\n",
    "plt.figure(figsize=(10,5))\n",
    "sns.barplot(x=tfidf_sums.values, y=tfidf_sums.index, palette='coolwarm')\n",
    "plt.title(\"Top 20 TF-IDF Words Across All Songs\")\n",
    "plt.xlabel(\"TF-IDF Score Sum\")\n",
    "plt.ylabel(\"Words\")\n",
    "plt.show()"
   ]
  },
  {
   "cell_type": "code",
   "execution_count": 54,
   "metadata": {},
   "outputs": [
    {
     "name": "stdout",
     "output_type": "stream",
     "text": [
      "Updated DataFrame with emotion and TF-IDF saved to C:\\Users\\Kimo Store\\Downloads\\deep\\output\\elissa_lyrics_preprocessed_with_emotion_tfidf.csv\n"
     ]
    }
   ],
   "source": [
    "# Save updated DataFrame with emotion and TF-IDF results\n",
    "output_file_updated = 'C:\\\\Users\\\\Kimo Store\\\\Downloads\\\\deep\\\\output\\\\elissa_lyrics_preprocessed_with_emotion_tfidf.csv'\n",
    "df.to_csv(output_file_updated, index=False, encoding='utf-8-sig')\n",
    "print(f\"Updated DataFrame with emotion and TF-IDF saved to {output_file_updated}\")"
   ]
  },
  {
   "cell_type": "code",
   "execution_count": null,
   "metadata": {},
   "outputs": [],
   "source": []
  }
 ],
 "metadata": {
  "kernelspec": {
   "display_name": "base",
   "language": "python",
   "name": "python3"
  },
  "language_info": {
   "codemirror_mode": {
    "name": "ipython",
    "version": 3
   },
   "file_extension": ".py",
   "mimetype": "text/x-python",
   "name": "python",
   "nbconvert_exporter": "python",
   "pygments_lexer": "ipython3",
   "version": "3.12.4"
  }
 },
 "nbformat": 4,
 "nbformat_minor": 2
}
